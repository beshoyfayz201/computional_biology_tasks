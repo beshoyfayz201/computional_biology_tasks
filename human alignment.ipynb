{
 "cells": [
  {
   "cell_type": "code",
   "execution_count": 8,
   "metadata": {},
   "outputs": [
    {
     "name": "stdout",
     "output_type": "stream",
     "text": [
      "MTMDK\n",
      "Spectrum  of YDDMAAAMK has 71 peaks.\n"
     ]
    },
    {
     "ename": "RuntimeError",
     "evalue": "Input to SpectrumAlignment is not sorted!",
     "output_type": "error",
     "traceback": [
      "\u001b[1;31m---------------------------------------------------------------------------\u001b[0m",
      "\u001b[1;31mRuntimeError\u001b[0m                              Traceback (most recent call last)",
      "\u001b[1;32m<ipython-input-8-dda14631a445>\u001b[0m in \u001b[0;36m<module>\u001b[1;34m\u001b[0m\n\u001b[0;32m     72\u001b[0m \u001b[0mspa\u001b[0m\u001b[1;33m.\u001b[0m\u001b[0msetParameters\u001b[0m\u001b[1;33m(\u001b[0m\u001b[0mp\u001b[0m\u001b[1;33m)\u001b[0m\u001b[1;33m\u001b[0m\u001b[1;33m\u001b[0m\u001b[0m\n\u001b[0;32m     73\u001b[0m \u001b[1;31m# align both spectra\u001b[0m\u001b[1;33m\u001b[0m\u001b[1;33m\u001b[0m\u001b[1;33m\u001b[0m\u001b[0m\n\u001b[1;32m---> 74\u001b[1;33m \u001b[0mspa\u001b[0m\u001b[1;33m.\u001b[0m\u001b[0mgetSpectrumAlignment\u001b[0m\u001b[1;33m(\u001b[0m\u001b[0malignment\u001b[0m\u001b[1;33m,\u001b[0m \u001b[0mspec\u001b[0m\u001b[1;33m,\u001b[0m \u001b[0mfirst_exp_spec\u001b[0m\u001b[1;33m)\u001b[0m\u001b[1;33m\u001b[0m\u001b[1;33m\u001b[0m\u001b[0m\n\u001b[0m\u001b[0;32m     75\u001b[0m \u001b[1;31m#MzMLFile().store(\"homosapiensresult.mzML\", exp)\u001b[0m\u001b[1;33m\u001b[0m\u001b[1;33m\u001b[0m\u001b[1;33m\u001b[0m\u001b[0m\n\u001b[0;32m     76\u001b[0m \u001b[1;31m#\u001b[0m\u001b[1;33m\u001b[0m\u001b[1;33m\u001b[0m\u001b[1;33m\u001b[0m\u001b[0m\n",
      "\u001b[1;32mpyopenms\\pyopenms_7.pyx\u001b[0m in \u001b[0;36mpyopenms.pyopenms_7.SpectrumAlignment.getSpectrumAlignment\u001b[1;34m()\u001b[0m\n",
      "\u001b[1;31mRuntimeError\u001b[0m: Input to SpectrumAlignment is not sorted!"
     ]
    },
    {
     "data": {
      "image/png": "[encoded data removed]",
      "text/plain": [
       "<Figure size 432x288 with 1 Axes>"
      ]
     },
     "metadata": {
      "needs_background": "light"
     },
     "output_type": "display_data"
    },
    {
     "data": {
      "image/png": "[encoded data removed]",
      "text/plain": [
       "<Figure size 864x576 with 1 Axes>"
      ]
     },
     "metadata": {
      "needs_background": "light"
     },
     "output_type": "display_data"
    }
   ],
   "source": [
    "import matplotlib.pyplot as plt\n",
    "import numpy as np\n",
    "from urllib.request import urlretrieve\n",
    "from pyopenms import *\n",
    "#_________Modify the file handler location \n",
    "fh = open(\"D:/last/compti/slides/tasks/gene.txt\")\n",
    "#get the sequence from file\n",
    "bsa = \"\".join([l.strip() for l in fh.readlines()[1:]])\n",
    "bsa = AASequence.fromString(bsa)\n",
    "#digest  the human protiens \n",
    "digsted_peptides = []\n",
    "dig = ProteaseDigestion()\n",
    "dig.digest(bsa, digsted_peptides)\n",
    "len(digsted_peptides)\n",
    "print(digsted_peptides[0])\n",
    "#preparing the theortical mass spec\n",
    "spec = MSSpectrum()\n",
    "tsg = TheoreticalSpectrumGenerator()\n",
    "p = Param()\n",
    "p.setValue(\"add_b_ions\", \"false\")\n",
    "p.setValue(\"add_a_ions\", \"false\")\n",
    "p.setValue(\"add_losses\", \"true\")\n",
    "p.setValue(\"add_metainfo\", \"true\")\n",
    "tsg.setParameters(p)\n",
    "for peptide in digsted_peptides[0:5]:  # for the first 5 peptides\n",
    "    tsg.getSpectrum(spec, peptide, 1, 1)\n",
    "# Iterate over annotated ions and their masses\n",
    "print(\"Spectrum  of\", peptide, \"has\", spec.size(), \"peaks.\")\n",
    "#for ion, peak in zip(spec.getStringDataArrays()[0], spec):\n",
    " #   print(ion.decode(), \"is generated at m/z\", peak.getMZ())\n",
    "exp = MSExperiment()\n",
    "exp.addSpectrum(spec)\n",
    "plt.xlabel(\"m/z\")\n",
    "plt.ylabel(\"intensity\")\n",
    "plt.bar(spec.get_peaks()[0], spec.get_peaks()[1], snap=False) # snap ensures that all bars are rendered\n",
    "#getting experimental spec\n",
    "gh = \"https://raw.githubusercontent.com/OpenMS/pyopenms-extra/master\"\n",
    "urlretrieve (gh + \"/src/data/YIC(Carbamidomethyl)DNQDTISSK.mzML\", \"observed.mzML\")\n",
    "exp = MSExperiment()\n",
    "MzMLFile().load(\"observed.mzML\", exp)\n",
    "exp_spec = exp.getSpectra()\n",
    "first_exp_spec = exp_spec[0]#first experimental spectrum\n",
    "#drawing mirror plot function \n",
    "def mirror_plot(obs_mz, obs_int, theo_mz, theo_int, title):\n",
    "    obs_int = [element / max(obs_int) for element in obs_int] # relative intenstiy\n",
    "    theo_int = [element * -1 for element in theo_int] # invert the intensity for the mirror plot\n",
    "    plt.figure(figsize=(12,8))\n",
    "    plt.bar(obs_mz, obs_int, width = 3.0)\n",
    "    plt.bar(theo_mz, theo_int, width = 3.0)\n",
    "    plt.title(title)\n",
    "    plt.ylabel('intensity')\n",
    "    plt.xlabel('m/z')\n",
    "#initialzing the experimental  mz & intinsite\n",
    "exp_mz, exp_int = first_exp_spec.get_peaks()\n",
    "\n",
    "# We filter the peaks of the theoretical spectrum to fit the range (to reduce image complexity)\n",
    "theo_mz, theo_int = [], []\n",
    "for mz, intensity in zip(*spec.get_peaks()):\n",
    "    if mz >= 200.0 and mz <= 800.0:\n",
    "        theo_mz.append(mz)\n",
    "        theo_int.append(intensity)\n",
    "\n",
    "title = 'Observed vs theoretical spectrum'\n",
    "mirror_plot(exp_mz, exp_int, theo_mz, theo_int, title)\n",
    "# the matching alignment\n",
    "alignment = []\n",
    "spa = SpectrumAlignment()\n",
    "ppp = spa.getParameters()\n",
    "# use 0.5 Da tolerance (Note: for high-resolution data we could also use ppm by setting the is_relative_tolerance value to true)\n",
    "ppp.setValue(\"tolerance\", 0.5)\n",
    "ppp.setValue(\"is_relative_tolerance\", \"false\")\n",
    "spa.setParameters(p)\n",
    "# align both spectra\n",
    "spa.getSpectrumAlignment(alignment, spec, first_exp_spec)\n",
    "#MzMLFile().store(\"homosapiensresult.mzML\", exp)\n",
    "#\n",
    "# Print matching ions and mz from theoretical spectrum\n",
    "print(\"Number of matched peaks: \" + str(len(alignment)))\n",
    "print(\"ion\\ttheo. m/z\\tobserved m/z\")\n",
    "\n",
    "for theo_idx, obs_idx in alignment[0:20]:\n",
    "    ion_name = spec.getStringDataArrays()[0][theo_idx].decode()\n",
    "    ion_charge = spec.getIntegerDataArrays()[0][theo_idx]\n",
    "    print(ion_name + \"\\t\" + str(ion_charge) + \"\\t\"\n",
    "      + str(first_exp_spec[theo_idx].getMZ())\n",
    "      + \"\\t\" + str(first_exp_spec[obs_idx].getMZ()))\n",
    "    \n",
    "\n",
    "    \n",
    "theo_mz, theo_int, obs_mz, obs_int = [], [], [], []\n",
    "for theo_idx, obs_idx in alignment[0:20]:\n",
    "    theo_mz.append(spec[theo_idx].getMZ())\n",
    "    theo_int.append(spec[theo_idx].getIntensity())\n",
    "    obs_mz.append(first_exp_spec[obs_idx].getMZ())\n",
    "    obs_int.append(first_exp_spec[obs_idx].getIntensity())\n",
    "\n",
    "title = 'Observed vs theoretical spectrum (aligned)'\n",
    "mirror_plot(obs_mz, obs_int, theo_mz, theo_int, title)"
   ]
  },
  {
   "cell_type": "code",
   "execution_count": null,
   "metadata": {},
   "outputs": [],
   "source": []
  },
  {
   "cell_type": "code",
   "execution_count": null,
   "metadata": {},
   "outputs": [],
   "source": []
  },
  {
   "cell_type": "code",
   "execution_count": null,
   "metadata": {},
   "outputs": [],
   "source": []
  }
 ],
 "metadata": {
  "kernelspec": {
   "display_name": "Python 3",
   "language": "python",
   "name": "python3"
  },
  "language_info": {
   "codemirror_mode": {
    "name": "ipython",
    "version": 3
   },
   "file_extension": ".py",
   "mimetype": "text/x-python",
   "name": "python",
   "nbconvert_exporter": "python",
   "pygments_lexer": "ipython3",
   "version": "3.7.4"
  }
 },
 "nbformat": 4,
 "nbformat_minor": 2
}
